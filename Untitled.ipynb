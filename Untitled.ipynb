{
 "cells": [
  {
   "cell_type": "code",
   "execution_count": 1,
   "id": "83700aed",
   "metadata": {},
   "outputs": [
    {
     "data": {
      "text/plain": [
       "(m, n)"
      ]
     },
     "execution_count": 1,
     "metadata": {},
     "output_type": "execute_result"
    }
   ],
   "source": [
    "var(\"m,n\")"
   ]
  },
  {
   "cell_type": "code",
   "execution_count": 4,
   "id": "89b23b5a",
   "metadata": {},
   "outputs": [],
   "source": [
    "f = binomial(n+1,2)*m + binomial(m+1,2)*n-m*n"
   ]
  },
  {
   "cell_type": "code",
   "execution_count": 6,
   "id": "7004b521",
   "metadata": {},
   "outputs": [
    {
     "data": {
      "text/plain": [
       "n^3"
      ]
     },
     "execution_count": 6,
     "metadata": {},
     "output_type": "execute_result"
    }
   ],
   "source": []
  },
  {
   "cell_type": "code",
   "execution_count": null,
   "id": "1dc9fbd7",
   "metadata": {},
   "outputs": [],
   "source": []
  }
 ],
 "metadata": {
  "kernelspec": {
   "display_name": "SageMath 9.5",
   "language": "sage",
   "name": "sagemath"
  },
  "language_info": {
   "codemirror_mode": {
    "name": "ipython",
    "version": 3
   },
   "file_extension": ".py",
   "mimetype": "text/x-python",
   "name": "python",
   "nbconvert_exporter": "python",
   "pygments_lexer": "ipython3",
   "version": "3.10.4"
  }
 },
 "nbformat": 4,
 "nbformat_minor": 5
}
